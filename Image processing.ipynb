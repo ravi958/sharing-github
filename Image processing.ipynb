{
 "cells": [
  {
   "cell_type": "code",
   "execution_count": 2,
   "id": "5a417fe6",
   "metadata": {},
   "outputs": [
    {
     "data": {
      "text/plain": [
       "'C:\\\\Users\\\\RAVI ANUGULA\\\\Desktop\\\\Python Jupyter Code'"
      ]
     },
     "execution_count": 2,
     "metadata": {},
     "output_type": "execute_result"
    }
   ],
   "source": [
    "pwd"
   ]
  },
  {
   "cell_type": "code",
   "execution_count": 5,
   "id": "993d38b4",
   "metadata": {},
   "outputs": [],
   "source": [
    "#Import required library\n",
    "from PIL import Image"
   ]
  },
  {
   "cell_type": "code",
   "execution_count": 7,
   "id": "ba68e0e6",
   "metadata": {},
   "outputs": [],
   "source": [
    "im = Image.open(\"indiagate.jpg\")"
   ]
  },
  {
   "cell_type": "code",
   "execution_count": 11,
   "id": "1a6bc2a0",
   "metadata": {},
   "outputs": [],
   "source": [
    "im.rotate(45).show()"
   ]
  },
  {
   "cell_type": "code",
   "execution_count": 12,
   "id": "54afbf20",
   "metadata": {},
   "outputs": [],
   "source": [
    "indiagate_gray = Image.open('indiagate.jpg').convert('L')"
   ]
  },
  {
   "cell_type": "code",
   "execution_count": 13,
   "id": "05b04444",
   "metadata": {},
   "outputs": [],
   "source": [
    "indiagate_gray.show()"
   ]
  },
  {
   "cell_type": "code",
   "execution_count": null,
   "id": "99c53dee",
   "metadata": {},
   "outputs": [],
   "source": []
  }
 ],
 "metadata": {
  "kernelspec": {
   "display_name": "Python 3",
   "language": "python",
   "name": "python3"
  },
  "language_info": {
   "codemirror_mode": {
    "name": "ipython",
    "version": 3
   },
   "file_extension": ".py",
   "mimetype": "text/x-python",
   "name": "python",
   "nbconvert_exporter": "python",
   "pygments_lexer": "ipython3",
   "version": "3.8.8"
  }
 },
 "nbformat": 4,
 "nbformat_minor": 5
}
